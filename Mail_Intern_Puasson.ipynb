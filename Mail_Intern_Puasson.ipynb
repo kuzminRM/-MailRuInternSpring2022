{
  "nbformat": 4,
  "nbformat_minor": 0,
  "metadata": {
    "colab": {
      "name": "Mail_Intern_Puasson.ipynb",
      "provenance": [],
      "authorship_tag": "ABX9TyNJSP24BhhW/u3+DFiNR05d",
      "include_colab_link": true
    },
    "kernelspec": {
      "name": "python3",
      "display_name": "Python 3"
    },
    "language_info": {
      "name": "python"
    }
  },
  "cells": [
    {
      "cell_type": "markdown",
      "metadata": {
        "id": "view-in-github",
        "colab_type": "text"
      },
      "source": [
        "<a href=\"https://colab.research.google.com/github/kuzminRM/-MailRuInternSpring2022/blob/main/Mail_Intern_Puasson.ipynb\" target=\"_parent\"><img src=\"https://colab.research.google.com/assets/colab-badge.svg\" alt=\"Open In Colab\"/></a>"
      ]
    },
    {
      "cell_type": "markdown",
      "source": [
        "Формула распределения Пуассона: <br>\n",
        "$P_{λ,t}(k) = \\frac{λt^k}{k!} e^{-λt}$,<br>\n",
        "c мат ожиданием равным $M = λt$.\n",
        "\n",
        "Для нашей задачи $t = 1$ день, интренсивность $λ = 10$ сообщений в сутки. <br>\n",
        "Поскольку сумма верноятностей всех собыий распределения = 1, то мы можем найти вероятность, как разность еденицы и противоположного события: $P(X ≥ 20) = 1 - P(X < 20)$, что позолит поститать конечную сумму ряда. Таким образом итоговый ответ будет равен:\n",
        "\n",
        "$1 - \\sum_{k=0}^{19} \\frac{10^k}{k!} e^{-10} ≈ 0.0035$"
      ],
      "metadata": {
        "id": "eeUfLQhrBK4C"
      }
    },
    {
      "cell_type": "code",
      "execution_count": 1,
      "metadata": {
        "colab": {
          "base_uri": "https://localhost:8080/"
        },
        "id": "-MLSrhstBDJ7",
        "outputId": "364bb1de-5985-41cd-eb50-40ea0abd54e2"
      },
      "outputs": [
        {
          "output_type": "stream",
          "name": "stdout",
          "text": [
            "0.0035\n"
          ]
        }
      ],
      "source": [
        "from math import factorial, exp\n",
        "\n",
        "sum = 0\n",
        "for k in range(20):\n",
        "  sum += (10**k / factorial(k)) * exp(-10)\n",
        "\n",
        "print(round(1 - sum, 4))"
      ]
    }
  ]
}